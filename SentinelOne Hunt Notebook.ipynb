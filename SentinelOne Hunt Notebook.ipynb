{
 "metadata": {
  "language_info": {
   "codemirror_mode": {
    "name": "ipython",
    "version": 3
   },
   "file_extension": ".py",
   "mimetype": "text/x-python",
   "name": "python",
   "nbconvert_exporter": "python",
   "pygments_lexer": "ipython3",
   "version": "3.8.2-final"
  },
  "orig_nbformat": 2,
  "kernelspec": {
   "name": "python_defaultSpec_1598753578115",
   "display_name": "Python 3.8.2 64-bit"
  }
 },
 "nbformat": 4,
 "nbformat_minor": 2,
 "cells": [
  {
   "cell_type": "markdown",
   "metadata": {},
   "source": [
    "# SentinelOne Hunt Notebook\n",
    "This jupyter notebook will simplify the process of using the SentinelOne Managment SDK to access the API for threat hunting.\n",
    "\n",
    "## Requirements\n",
    "- Python3\n",
    "- Python modules: Numpy, Pandas, SentinelOne-Management-SDK\n",
    "\n",
    "## Setup\n",
    "You'll need to download the SentinelOne Management SDK from the `Console > ? > API Doc` page. Just follow the setup instructions for the SDK.\n",
    "\n",
    "```\n",
    "python3 -m pip install numpy pandas\n",
    "python3 -m pip install sentinel-mgmt-sdk.tar.gz\n",
    "```\n",
    "\n",
    "## Initialization\n",
    "Now you'll need to grab your API token from the `My User > Options` link at the top right of your SentinelOne console. Store this somewhere safe, it is only shown to you once. Now continue by filling in your api_token and console host \n",
    "below and clicking run."
   ]
  },
  {
   "cell_type": "code",
   "execution_count": null,
   "metadata": {
    "tags": []
   },
   "outputs": [],
   "source": [
    "import json\n",
    "from management.mgmtsdk_v2.smgmt import Management\n",
    "try:\n",
    "    import numpy as np\n",
    "    import pandas as pd\n",
    "    from pandas.io.json import json_normalize\n",
    "except:\n",
    "    print(\"Error importing Numpy or Pandas\")\n",
    "\n",
    "\n",
    "console_host = \"whatever.sentinelone.net\"\n",
    "api_token = \"\"\n",
    "sentinel = Management(hostname=console_host, api_token=api_token)"
   ]
  },
  {
   "cell_type": "markdown",
   "metadata": {},
   "source": [
    "# Detected Activity\n",
    "\n",
    "## Review Previously Detected Threats\n",
    "For the purpose of reviewing previously detected threats for the purpose of details review."
   ]
  },
  {
   "cell_type": "code",
   "execution_count": null,
   "metadata": {
    "tags": []
   },
   "outputs": [],
   "source": [
    "'''\n",
    "TODO\n",
    "API 2.1 has more threat detail than 2.0 but if we choose to stick with 2.0 we need to show most recent first, if we go with 2.1 we'll need to bundle a bunch of JSON data for printing a clean data table.\n",
    "'''\n",
    "\n",
    "threats = sentinel.threats.get()\n",
    "threats_json = threats.json['data']\n",
    "threat_table = pd.DataFrame(threats_json)\n",
    "threat_table"
   ]
  },
  {
   "cell_type": "markdown",
   "metadata": {},
   "source": [
    "## Review Threat Analysis by Threat ID\n",
    "This query will provide all incident details for a given `threat_id`, you can modify `details` to show all information including endpoint and policy information, or just the threat information. JSON data will be returned without formatting."
   ]
  },
  {
   "cell_type": "code",
   "execution_count": null,
   "metadata": {
    "tags": []
   },
   "outputs": [],
   "source": [
    "threat_id = \"805101095882449718\"\n",
    "details = \"threat\" # Options are threat or all\n",
    "\n",
    "analysis = sentinel.threats.threat_analysis(threat_id=threat_id)\n",
    "if details == \"all\":\n",
    "    analysis_json = analysis.json['data']\n",
    "if details == \"threat\":\n",
    "    analysis_json = analysis.json['data']['threatInfo']\n",
    "analysis_json"
   ]
  },
  {
   "cell_type": "markdown",
   "metadata": {},
   "source": [
    "# Deep Visibility\n",
    "\n",
    "## Hunt for Specific Process Command Line\n",
    "Syntax will have roughly the same of a standard DV query, update the `query_string` and `operator` variables to customize the ProcessCmd (command line) you wish to hunt for."
   ]
  },
  {
   "cell_type": "code",
   "execution_count": null,
   "metadata": {},
   "outputs": [],
   "source": [
    "'''\n",
    "TODO: make it worky\n",
    "'''\n",
    "query_string = \"\"\n",
    "operator = \"eq\"\n",
    "\n"
   ]
  }
 ]
}