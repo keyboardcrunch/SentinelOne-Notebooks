{
 "metadata": {
  "language_info": {
   "codemirror_mode": {
    "name": "ipython",
    "version": 3
   },
   "file_extension": ".py",
   "mimetype": "text/x-python",
   "name": "python",
   "nbconvert_exporter": "python",
   "pygments_lexer": "ipython3",
   "version": "3.8.2-final"
  },
  "orig_nbformat": 2,
  "kernelspec": {
   "name": "python_defaultSpec_1598754270324",
   "display_name": "Python 3.8.2 64-bit"
  }
 },
 "nbformat": 4,
 "nbformat_minor": 2,
 "cells": [
  {
   "cell_type": "markdown",
   "metadata": {},
   "source": [
    "# SentinelOne Investigate Notebook\n",
    "\n",
    "This notebook provides easy access to the SentinelOne API to investigate a single endpoint.\n",
    "\n",
    "## Requirements\n",
    "- Python3\n",
    "- Python modules: Numpy, Pandas, SentinelOne-Management-SDK\n",
    "\n",
    "## Setup\n",
    "You'll need to download the SentinelOne Management SDK from the `Console > ? > API Doc` page. Just follow the setup instructions for the SDK.\n",
    "\n",
    "```\n",
    "python3 -m pip install numpy pandas\n",
    "python3 -m pip install sentinel-mgmt-sdk.tar.gz\n",
    "```\n",
    "\n",
    "## Initialization\n",
    "Now you'll need to grab your API token from the `My User > Options` link at the top right of your SentinelOne console. Store this somewhere safe, it is only shown to you once. Now continue by filling in your api_token and console host \n",
    "below and clicking run."
   ]
  },
  {
   "cell_type": "code",
   "execution_count": null,
   "metadata": {
    "tags": []
   },
   "outputs": [],
   "source": [
    "import json\n",
    "from management.mgmtsdk_v2_1.mgmt import Management\n",
    "from management.mgmtsdk_v2_1.services.threat import ThreatQueryFilter\n",
    "from management.mgmtsdk_v2_1.services.agent import AgentQueryFilter\n",
    "try:\n",
    "    import numpy as np\n",
    "    import pandas as pd\n",
    "    from pandas.io.json import json_normalize\n",
    "except:\n",
    "    print(\"Error importing Numpy or Pandas\")\n",
    "\n",
    "\n",
    "console_host = \"whatever.sentinelone.net\"\n",
    "api_token = \"\"\n",
    "sentinel = Management(hostname=console_host, api_token=api_token)"
   ]
  },
  {
   "cell_type": "markdown",
   "metadata": {},
   "source": [
    "# Investigate\n",
    "\n",
    "## Lookup Agent Information\n",
    "Just update the `hostname` variable with a partial match, the query filter on line 5 uses the CONTAIN operator.\n"
   ]
  },
  {
   "cell_type": "code",
   "execution_count": null,
   "metadata": {},
   "outputs": [],
   "source": [
    "hostname = \"SAMPLECOMPUTER\"\n",
    "operator = \"contains\" # eq, like, contains\n",
    "\n",
    "filter = AgentQueryFilter()\n",
    "filter.apply('computerName', hostname, op=operator)\n",
    "endpoints = sentinel.agents.get(query_filter=filter)\n",
    "ep_json = endpoints.json['data']\n",
    "ep_table = pd.DataFrame(ep_json)\n",
    "ep_table[['computerName','siteName','agentVersion','scanStatus','scanFinishedAt','threatRebootRequired','userActionsNeeded']]"
   ]
  },
  {
   "cell_type": "markdown",
   "metadata": {},
   "source": [
    "## Threats by Agent Name\n",
    "Just update the `hostname` variable below, optionally changing the `operator` to adjust the query results."
   ]
  },
  {
   "cell_type": "code",
   "execution_count": null,
   "metadata": {},
   "outputs": [],
   "source": [
    "hostname = \"SAMPLECOMPUTER\"\n",
    "operator = \"contains\" # eq, like, contains\n",
    "\n",
    "filter = ThreatQueryFilter()\n",
    "filter.apply('computerName', hostname, op=operator)\n",
    "endpoint = sentinel.threats.get(query_filter=filter)\n",
    "ep_json = endpoint.json['data']\n",
    "ep_table = pd.DataFrame(ep_json)\n",
    "ep_table[['agentDetectionInfo']]"
   ]
  },
  {
   "cell_type": "markdown",
   "metadata": {},
   "source": [
    "## Scan an Agent(s)\n",
    "Initiate endpoint scans by full or partial match query, just update the `hostname` and `operator` for your query. Be very careful with `like` and `contains` queries as they may match a large number of endpoints."
   ]
  },
  {
   "cell_type": "code",
   "execution_count": null,
   "metadata": {
    "tags": []
   },
   "outputs": [],
   "source": [
    "hostname = \"SAMPLECOMPUTER\"\n",
    "operator = \"eq\" # eq, like, contains\n",
    "\n",
    "filter = AgentQueryFilter()\n",
    "filter.apply('computerName', hostname, op=operator)\n",
    "endpoints = sentinel.agent_actions.initiate_scan(query_filter=filter)\n",
    "endpoints.json['data']"
   ]
  },
  {
   "cell_type": "markdown",
   "metadata": {},
   "source": [
    "## Disconnect Agents\n",
    "Disconnect endpoints from the network with a full or partial match query. Again, be careful as you may target a bunch of endpoints."
   ]
  },
  {
   "cell_type": "code",
   "execution_count": null,
   "metadata": {},
   "outputs": [],
   "source": [
    "hostname = \"SAMPLECOMPUTER\"\n",
    "operator = \"eq\" # eq, like, contains\n",
    "\n",
    "filter = AgentQueryFilter()\n",
    "filter.apply('computerName', hostname, op=operator)\n",
    "endpoints = sentinel.agent_actions.disconnect_from_network(query_filter=filter)\n",
    "endpoints.json['data']"
   ]
  },
  {
   "cell_type": "markdown",
   "metadata": {},
   "source": [
    "## Fetch Endpoint Logs\n",
    "Initiate log collection by full or partial match query, just update the `hostname` and `operator` for your query and optionally adjust which logs to collect. Default Collects both Sentinel eventlogs as well as Windows forensic data and logs.\n",
    "\n",
    "* Be very careful with `like` and `contains` queries as they may match a large number of endpoints.\n",
    "* Logs can be downloaded from the `Console > Activity` page."
   ]
  },
  {
   "cell_type": "code",
   "execution_count": null,
   "metadata": {
    "tags": []
   },
   "outputs": [],
   "source": [
    "hostname = \"SAMPLECOMPUTER\"\n",
    "operator = \"eq\" # eq, like, contains\n",
    "windows_logs = True\n",
    "sentinel_logs = False\n",
    "\n",
    "filter = AgentQueryFilter()\n",
    "filter.apply('computerName', hostname, op=operator)\n",
    "endpoints = sentinel.agent_actions.fetch_logs(agent_logs=sentinel_logs, platform_logs=windows_logs, query_filter=filter)"
   ]
  }
 ]
}