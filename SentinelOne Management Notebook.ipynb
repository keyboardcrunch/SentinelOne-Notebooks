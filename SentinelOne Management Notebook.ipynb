{
 "metadata": {
  "language_info": {
   "codemirror_mode": {
    "name": "ipython",
    "version": 3
   },
   "file_extension": ".py",
   "mimetype": "text/x-python",
   "name": "python",
   "nbconvert_exporter": "python",
   "pygments_lexer": "ipython3",
   "version": "3.8.2-final"
  },
  "orig_nbformat": 2,
  "kernelspec": {
   "name": "python_defaultSpec_1598755766774",
   "display_name": "Python 3.8.2 64-bit"
  }
 },
 "nbformat": 4,
 "nbformat_minor": 2,
 "cells": [
  {
   "cell_type": "markdown",
   "metadata": {},
   "source": [
    "# SentinelOne Account Management Notebook\n",
    "\n",
    "This jupyter notebook is a quick means to working with the SentinelOne Management API without having to write out all the code, or really understand the code that is written.\n",
    "\n",
    "## Requirements\n",
    "- Python3\n",
    "- Python modules: Numpy, Pandas, SentinelOne-Management-SDK\n",
    "\n",
    "## Setup\n",
    "You'll need to download the SentinelOne Management SDK from the `Console > ? > API Doc` page. Just follow the setup instructions for the SDK.\n",
    "\n",
    "```\n",
    "python3 -m pip install numpy pandas\n",
    "python3 -m pip install sentinel-mgmt-sdk.tar.gz\n",
    "```\n",
    "\n",
    "## Initialization\n",
    "Now you'll need to grab your API token from the `My User > Options` link at the top right of your SentinelOne console. Store this somewhere safe, it is only shown to you once. Now continue by filling in your api_token and console host \n",
    "below and clicking run.\n"
   ]
  },
  {
   "cell_type": "code",
   "execution_count": null,
   "metadata": {
    "tags": []
   },
   "outputs": [],
   "source": [
    "import json\n",
    "from management.mgmtsdk_v2.mgmt import Management\n",
    "from management.mgmtsdk_v2.services.threat import ThreatQueryFilter\n",
    "from management.mgmtsdk_v2.services.exclusion import ExclusionQueryFilter\n",
    "try:\n",
    "    import numpy as np\n",
    "    import pandas as pd\n",
    "except:\n",
    "    print(\"Error importing Numpy or Pandas\")\n",
    "\n",
    "\n",
    "console_host = \"whatever.sentinelone.net\"\n",
    "api_token = \"\"\n",
    "sentinel = Management(hostname=console_host, api_token=api_token)"
   ]
  },
  {
   "cell_type": "markdown",
   "metadata": {},
   "source": [
    "## List Sites\n",
    "List all sites and their account tied to your SentinelOne Management console."
   ]
  },
  {
   "cell_type": "code",
   "execution_count": null,
   "metadata": {
    "tags": []
   },
   "outputs": [],
   "source": [
    "sites = sentinel.sites.get()\n",
    "sites_json = sites.json['data']['sites']\n",
    "sites_table = pd.DataFrame(sites_json)\n",
    "sites_table[['accountId','accountName','name','activeLicenses','totalLicenses']]\n"
   ]
  },
  {
   "cell_type": "markdown",
   "metadata": {},
   "source": [
    "## List Groups\n",
    "List all groups and their information under your SentinelOne Management console."
   ]
  },
  {
   "cell_type": "code",
   "execution_count": null,
   "metadata": {
    "tags": []
   },
   "outputs": [],
   "source": [
    "groups = sentinel.groups.get()\n",
    "groups_json = groups.json['data']\n",
    "groups_table = pd.DataFrame(groups_json)\n",
    "groups_table[['rank','name','type','filterName','inherits','id','totalAgents']]"
   ]
  },
  {
   "cell_type": "markdown",
   "metadata": {},
   "source": [
    "## List Exclusions"
   ]
  },
  {
   "cell_type": "code",
   "execution_count": null,
   "metadata": {
    "tags": []
   },
   "outputs": [],
   "source": [
    "'''\n",
    "TODO\n",
    "This is yet to be working, unsure exactly how the services.exclusion Class works or exactly what ExclusionQueryFilter variables are missing when getting close to a solution.\n",
    "'''\n",
    "\n",
    "GroupIds = \"802789373973781586,818161910241064680,818866271331510917,830332126885336267,831033687467027125,831043493045222214,921612686215306963,926093061711828666,937650447030801373,937657426017292877\"\n",
    "\n",
    "from management.mgmtsdk_v2.services.exclusion import ExclusionQueryFilter\n",
    "filter = ExclusionQueryFilter()\n",
    "filter.apply('groupIds', GroupIds, op=\"eq\"'type', \"path\", op=\"eq\"))\n",
    "exclusions = sentinel.exclusions.get_white(query_filter=filter)\n",
    "exlusions.json"
   ]
  },
  {
   "cell_type": "markdown",
   "metadata": {},
   "source": [
    "## Lookup Agent Information\n",
    "Just update the `hostname` variable with a partial match, the query filter on line 5 uses the CONTAIN operator."
   ]
  },
  {
   "cell_type": "code",
   "execution_count": null,
   "metadata": {
    "tags": []
   },
   "outputs": [],
   "source": [
    "hostname = \"SAMPLECOMPUTER\"\n",
    "\n",
    "\n",
    "filter = ThreatQueryFilter()\n",
    "filter.apply('computerName', hostname, op='contains')\n",
    "endpoints = sentinel.agents.get(query_filter=filter)\n",
    "ep_json = endpoints.json['data']\n",
    "ep_table = pd.DataFrame(ep_json)\n",
    "ep_table[['computerName','siteName','agentVersion','scanStatus','scanFinishedAt','threatRebootRequired','userActionsNeeded']]"
   ]
  },
  {
   "cell_type": "markdown",
   "metadata": {},
   "source": [
    "## View Active Threats\n",
    "List all unresolved threats."
   ]
  },
  {
   "cell_type": "code",
   "execution_count": null,
   "metadata": {
    "tags": []
   },
   "outputs": [],
   "source": [
    "threats = sentinel.threats.get(resolved=False)\n",
    "threats_json = threats.json['data']\n",
    "if threats_json != []:\n",
    "    threat_table = pd.DataFrame(threats_json)\n",
    "    threat_table[['agentId','agentComputerName','threatAgentVersion','agentInfected','agentIsActive','siteName','threatName']]\n",
    "else:\n",
    "    print(\"\\r\\nNo active threats.\")"
   ]
  },
  {
   "cell_type": "code",
   "execution_count": null,
   "metadata": {},
   "outputs": [],
   "source": []
  }
 ]
}